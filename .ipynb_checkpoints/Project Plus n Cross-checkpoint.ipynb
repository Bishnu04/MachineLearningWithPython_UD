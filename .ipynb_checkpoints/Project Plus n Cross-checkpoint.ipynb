{
 "cells": [
  {
   "cell_type": "markdown",
   "metadata": {},
   "source": [
    "# Problem:\n",
    "1. Consider Image of size 3*3 for plus and cross\n",
    "2. In terms of input plus = [0,1,0,1,1,1,0,1,0], cross = [1,0,1,0,1,0,1,0,1]\n",
    "\n",
    "\n",
    "# Algorithm:\n",
    "1. Error at Output Layer = (Out_exp - Oct_pre)*Oct_pre*(1 - Oct_pre)\n",
    "2. Re calculate Weight = Weight + learning*error*input\n",
    "3. Error at Hidden Layer = w_11*error1 + w_12*error2 "
   ]
  },
  {
   "cell_type": "code",
   "execution_count": 94,
   "metadata": {
    "scrolled": false
   },
   "outputs": [
    {
     "name": "stdout",
     "output_type": "stream",
     "text": [
      "Giving input as cross\n",
      "0.12127075718578688 0.8810819669434297\n",
      "Giving input as plus\n",
      "0.8750034152679017 0.12391328673211108\n"
     ]
    }
   ],
   "source": [
    "import numpy as np\n",
    "import os\n",
    "import random\n",
    "\n",
    "lr = 1 #learning rate\n",
    "#Initialize Bias and Weights\n",
    "bias = [random.random() for x in range(4)]\n",
    "bias_out = [random.random() for x in range(2)]\n",
    "h, w = 10, 5\n",
    "weight_hid = [[random.random() for x in range(w)] for y in range(h)] \n",
    "h, w = 5, 3\n",
    "weight_out = [[random.random() for x in range(w)] for y in range(h)] \n",
    "\n",
    "   \n",
    "\n",
    "def sigmoid(x):\n",
    "    return 1/(1+exp(-x))\n",
    "\n",
    "def hidden_layer(x):\n",
    "    hid_outputP = [0,0,0,0]\n",
    "    #hid_error = [0,0,0,0]\n",
    "\n",
    "    for i in range(0,4):\n",
    "        hid_outputP[i] = bias[i]*weight_hid[0][i+1]\n",
    "        for j in range(0,9):\n",
    "            hid_outputP[i] =  hid_outputP[i] + x[j]*weight_hid[j+1][i+1]\n",
    "          \n",
    "        hid_outputP[i] = sigmoid(hid_outputP[i])\n",
    "    return hid_outputP\n",
    "\n",
    "def output_layer(h, result, plus):\n",
    "    outputP = [0,0]\n",
    "    error = [0,0]\n",
    "    for i in range(0,2):\n",
    "        outputP[i] = bias_out[i]\n",
    "        for j in range(0,4):\n",
    "            outputP[i] =  outputP[i] + h[j]*weight_out[j+1][i+1]\n",
    "\n",
    "    outputP[0] = sigmoid(outputP[0])\n",
    "    outputP[1] = sigmoid(outputP[1])\n",
    "    #Calculate Error at Output Layer\n",
    "    error[0] = (result[0] - outputP[0])*outputP[0]*(1 - outputP[0])\n",
    "    error[1] = (result[1] - outputP[1])*outputP[1]*(1 - outputP[1])\n",
    "\n",
    "    #Calculate Error at Hidden Layer\n",
    "    for i in range(1,5):\n",
    "        error_hid[i] = (error[0]*weight_out[i][1] + error[1]*weight_out[i][2])*h[i-1]*(1 - h[i-1])\n",
    "    #Recalculate Weight to Output Layer\n",
    "    for i in range(1,5):\n",
    "        weight_out[i][1] =  weight_out[i][1] + error[0]*h[i-1]*lr\n",
    "        weight_out[i][2] =  weight_out[i][2] + error[1]*h[i-1]*lr\n",
    "        \n",
    "    #Recalculate Weight to Hidden Layer\n",
    "    for i in range(1,5):\n",
    "        for j in range(1,10):\n",
    "            weight_hid[j][i] = weight_hid[j][i] + error_hid[i]*plus[j-1]\n",
    "\n",
    "def predict(input):\n",
    "    input_hid = hidden_layer(input)\n",
    "    outputP = [0,0]\n",
    "    for i in range(0,2):\n",
    "        outputP[i] = bias_out[i]\n",
    "        for j in range(0,4):\n",
    "            outputP[i] =  outputP[i] + input_hid[j]*weight_out[j+1][i+1]\n",
    "\n",
    "    outputP[0] = sigmoid(outputP[0])\n",
    "    outputP[1] = sigmoid(outputP[1])    \n",
    "    print(outputP[0],outputP[1])  \n",
    "    \n",
    "plus = [0,1,0,1,1,1,0,1,0]\n",
    "result_plus = [0.9, 0.1]\n",
    "cross = [1,0,1,0,1,0,1,0,1]\n",
    "result_cross = [0.1, 0.9]\n",
    "error_hid = [0,0,0,0,0]\n",
    "\n",
    "for i in range(200) :\n",
    "    #print(\"Running loop i=%s\"%i)    \n",
    "    H = hidden_layer(plus) \n",
    "    output_layer(H, result_plus, plus)\n",
    "    H = hidden_layer(cross) \n",
    "    output_layer(H, result_cross,cross)\n",
    "    \n",
    "print(\"Giving input as cross\")\n",
    "predict(cross)\n",
    "print(\"Giving input as plus\")\n",
    "predict(plus)\n"
   ]
  },
  {
   "cell_type": "code",
   "execution_count": null,
   "metadata": {},
   "outputs": [],
   "source": []
  },
  {
   "cell_type": "code",
   "execution_count": 107,
   "metadata": {},
   "outputs": [],
   "source": []
  },
  {
   "cell_type": "code",
   "execution_count": null,
   "metadata": {},
   "outputs": [],
   "source": []
  }
 ],
 "metadata": {
  "kernelspec": {
   "display_name": "Python 3",
   "language": "python",
   "name": "python3"
  },
  "language_info": {
   "codemirror_mode": {
    "name": "ipython",
    "version": 3
   },
   "file_extension": ".py",
   "mimetype": "text/x-python",
   "name": "python",
   "nbconvert_exporter": "python",
   "pygments_lexer": "ipython3",
   "version": "3.6.6"
  }
 },
 "nbformat": 4,
 "nbformat_minor": 2
}
