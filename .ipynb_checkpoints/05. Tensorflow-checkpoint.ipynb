{
 "cells": [
  {
   "cell_type": "markdown",
   "metadata": {},
   "source": [
    "# Tensorflow\n",
    "- open source machine learning framework for all developers\n",
    "- used for implementing machine learning and deep learning applications\n",
    "- uses data flow graphs to build models\n",
    "- allows developers to create large-scale neural networks with many layers\n",
    "- mainly used for: Classification, Perception, Understanding, Discovering, Prediction and Creation\n",
    "\n"
   ]
  },
  {
   "cell_type": "markdown",
   "metadata": {},
   "source": [
    "Tensor is n-dimension structure\n",
    "- n = 1 List \n",
    "- n = 2 Matrix\n",
    "\n",
    "Draw Computation Graph to calculate (x + y)*z\n",
    "\n",
    "<img src=\"Image/tensor.png\" width=\"400\" />"
   ]
  },
  {
   "cell_type": "markdown",
   "metadata": {},
   "source": [
    "Flow of Tensors is called as \"Tensorflow\"\n",
    "<img src=\"Image/tensor2.png\" width=\"400\" />"
   ]
  },
  {
   "cell_type": "markdown",
   "metadata": {},
   "source": [
    "#### Placeholders\n",
    "- we assign data to this at a later date\n",
    "- it allows us to create our operations and build our computation graph, without needing the data\n",
    "- we feed data into the graph through these placeholders (green box above)"
   ]
  },
  {
   "cell_type": "code",
   "execution_count": null,
   "metadata": {},
   "outputs": [],
   "source": []
  }
 ],
 "metadata": {
  "kernelspec": {
   "display_name": "Python 3",
   "language": "python",
   "name": "python3"
  },
  "language_info": {
   "codemirror_mode": {
    "name": "ipython",
    "version": 3
   },
   "file_extension": ".py",
   "mimetype": "text/x-python",
   "name": "python",
   "nbconvert_exporter": "python",
   "pygments_lexer": "ipython3",
   "version": "3.6.6"
  }
 },
 "nbformat": 4,
 "nbformat_minor": 2
}
