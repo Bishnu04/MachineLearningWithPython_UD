{
 "cells": [
  {
   "cell_type": "markdown",
   "metadata": {},
   "source": [
    "# Convolutional Neural Network (CNN)\n",
    "<img src=\"Image/cnn.jpg\">\n",
    "|\n",
    "$CONVOLUTION \\longrightarrow MAX POOLING \\longrightarrow FLATTENING \\longrightarrow FULL CONNECTION$"
   ]
  },
  {
   "cell_type": "markdown",
   "metadata": {},
   "source": [
    "Convolutional neural networks are the same as ordinary neural networks because they are also made up of neurons that have learnable weights and biases. Ordinary neural networks ignore the structure of input data and all the data is converted into 1-D array before feeding it into the network. This process suits the regular data, however if the data contains images, the process may be cumbersome.\n",
    "\n",
    "CNN solves this problem easily. It takes the 2D structure of the images into account when they process them, which allows them to extract the properties specific to images. In this way, the main goal of CNNs is to go from the raw image data in the input layer to the correct class in the output layer. The only difference between an ordinary NNs and CNNs is in the treatment of input data and in the type of layers.\n",
    "\n"
   ]
  },
  {
   "cell_type": "markdown",
   "metadata": {},
   "source": [
    "### Step 1:CONVOLUTION\n",
    "- Identify features and put it in feature map while preverving special relation between pixels\n",
    "<img src=\"Image/convolution.png\">\n"
   ]
  },
  {
   "cell_type": "markdown",
   "metadata": {},
   "source": [
    "### Step 1(a):\n",
    "We create many Feature Maps by taking different Feature Detector to obtain our first convolution layer.\n"
   ]
  },
  {
   "cell_type": "markdown",
   "metadata": {},
   "source": [
    "### Step 2: MAX POOLING\n",
    "- If same image be rotated or strectched or shrinked, Neural Network should be able to recognize it.\n",
    "- preserving the feature\n",
    "- reducing size\n",
    "- reducing parameter so preventing over-fitting\n",
    "\n",
    "<img src=\"Image/max.png\">\n",
    "\n"
   ]
  },
  {
   "cell_type": "markdown",
   "metadata": {},
   "source": [
    "### Step 3: FLATTENING\n",
    "<img src=\"Image/flattening.png\">"
   ]
  },
  {
   "cell_type": "markdown",
   "metadata": {},
   "source": [
    "### Step 4: Fully Connected Layer\n",
    "- in Artificial NN its hidden layer\n",
    "- in ANN we have one output - regression problem\n",
    "- in CNN we have multiple output - classification problem\n",
    "\n",
    "<img src=\"Image/full_layer.png\">"
   ]
  },
  {
   "cell_type": "code",
   "execution_count": null,
   "metadata": {},
   "outputs": [],
   "source": []
  }
 ],
 "metadata": {
  "kernelspec": {
   "display_name": "Python 3",
   "language": "python",
   "name": "python3"
  },
  "language_info": {
   "codemirror_mode": {
    "name": "ipython",
    "version": 3
   },
   "file_extension": ".py",
   "mimetype": "text/x-python",
   "name": "python",
   "nbconvert_exporter": "python",
   "pygments_lexer": "ipython3",
   "version": "3.6.6"
  }
 },
 "nbformat": 4,
 "nbformat_minor": 2
}
