{
 "cells": [
  {
   "cell_type": "markdown",
   "metadata": {},
   "source": [
    "# Feature Selection\n",
    "\n",
    "- starts with the evaluation of each individual feature and choose one that results in the best \n",
    "- best depends on the chosen criteria e.g: scoring='accuracy'\n",
    "- Next, all possible combinations of the first feature (from step1) and a second feature is selected based on evaluation\n",
    "- this goes on until predefined number of feature is selected"
   ]
  },
  {
   "cell_type": "code",
   "execution_count": 7,
   "metadata": {},
   "outputs": [],
   "source": [
    "# Importing the libraries\n",
    "import numpy as np\n",
    "import matplotlib.pyplot as plt\n",
    "import pandas as pd\n",
    "from sklearn.ensemble import RandomForestClassifier\n",
    "from sklearn.model_selection import train_test_split\n",
    "from sklearn.metrics import accuracy_score as acc\n",
    "from mlxtend.feature_selection import SequentialFeatureSelector as sfs\n",
    "\n",
    "# Importing the dataset - https://archive.ics.uci.edu/ml/datasets/wine\n",
    "dataset = pd.read_csv('Data/Dimensionality/Wine.csv')\n",
    "X = dataset.iloc[:, 0:13].values\n",
    "y = dataset.iloc[:, 13].values\n",
    "\n",
    "X = X.astype(float)\n",
    "y = y.astype(float)\n",
    "\n",
    "# Splitting the dataset\n",
    "from sklearn.model_selection import train_test_split\n",
    "X_train, X_test, y_train, y_test = train_test_split(X, y, test_size = 0.25, random_state = 0)"
   ]
  },
  {
   "cell_type": "code",
   "execution_count": 8,
   "metadata": {},
   "outputs": [
    {
     "name": "stderr",
     "output_type": "stream",
     "text": [
      "[Parallel(n_jobs=1)]: Using backend SequentialBackend with 1 concurrent workers.\n",
      "[Parallel(n_jobs=1)]: Done   1 out of   1 | elapsed:    1.3s remaining:    0.0s\n",
      "[Parallel(n_jobs=1)]: Done  13 out of  13 | elapsed:   18.6s finished\n",
      "\n",
      "[2020-04-30 12:22:52] Features: 1/6 -- score: 0.7745098039215685[Parallel(n_jobs=1)]: Using backend SequentialBackend with 1 concurrent workers.\n",
      "[Parallel(n_jobs=1)]: Done   1 out of   1 | elapsed:    1.4s remaining:    0.0s\n",
      "[Parallel(n_jobs=1)]: Done  12 out of  12 | elapsed:   16.9s finished\n",
      "\n",
      "[2020-04-30 12:23:09] Features: 2/6 -- score: 0.9625668449197862[Parallel(n_jobs=1)]: Using backend SequentialBackend with 1 concurrent workers.\n",
      "[Parallel(n_jobs=1)]: Done   1 out of   1 | elapsed:    1.3s remaining:    0.0s\n",
      "[Parallel(n_jobs=1)]: Done  11 out of  11 | elapsed:   15.2s finished\n",
      "\n",
      "[2020-04-30 12:23:24] Features: 3/6 -- score: 0.9848484848484849[Parallel(n_jobs=1)]: Using backend SequentialBackend with 1 concurrent workers.\n",
      "[Parallel(n_jobs=1)]: Done   1 out of   1 | elapsed:    1.3s remaining:    0.0s\n",
      "[Parallel(n_jobs=1)]: Done  10 out of  10 | elapsed:   14.0s finished\n",
      "\n",
      "[2020-04-30 12:23:38] Features: 4/6 -- score: 0.9772727272727273[Parallel(n_jobs=1)]: Using backend SequentialBackend with 1 concurrent workers.\n",
      "[Parallel(n_jobs=1)]: Done   1 out of   1 | elapsed:    1.4s remaining:    0.0s\n",
      "[Parallel(n_jobs=1)]: Done   9 out of   9 | elapsed:   12.5s finished\n",
      "\n",
      "[2020-04-30 12:23:51] Features: 5/6 -- score: 0.9848484848484849[Parallel(n_jobs=1)]: Using backend SequentialBackend with 1 concurrent workers.\n",
      "[Parallel(n_jobs=1)]: Done   1 out of   1 | elapsed:    1.3s remaining:    0.0s\n",
      "[Parallel(n_jobs=1)]: Done   8 out of   8 | elapsed:   11.1s finished\n",
      "\n",
      "[2020-04-30 12:24:02] Features: 6/6 -- score: 0.9848484848484849"
     ]
    }
   ],
   "source": [
    "# Build Random Forest classifier for feature selection\n",
    "clf = RandomForestClassifier(n_estimators=100, n_jobs=-1)\n",
    "\n",
    "# Forward Feature Selection\n",
    "sfs_c = sfs(clf,\n",
    "           k_features=6,\n",
    "           forward=True,\n",
    "           floating=False,\n",
    "           verbose=2,\n",
    "           scoring='accuracy',\n",
    "           cv=4)\n",
    "\n",
    "# Perform SFFS\n",
    "sfs_c = sfs_c.fit(X_train, y_train)"
   ]
  },
  {
   "cell_type": "code",
   "execution_count": 9,
   "metadata": {},
   "outputs": [
    {
     "name": "stdout",
     "output_type": "stream",
     "text": [
      "[2, 3, 4, 6, 8, 9]\n"
     ]
    }
   ],
   "source": [
    "feature_select = list(sfs_c.k_feature_idx_)\n",
    "print(feature_select)"
   ]
  },
  {
   "cell_type": "code",
   "execution_count": 11,
   "metadata": {},
   "outputs": [
    {
     "name": "stdout",
     "output_type": "stream",
     "text": [
      "Training accuracy(feature_select): 0.992\n",
      "Testing accuracy(feature_select): 0.867\n"
     ]
    }
   ],
   "source": [
    "# Build full model with selected features\n",
    "clf = RandomForestClassifier(n_estimators=1000, random_state=42, max_depth=4)\n",
    "#Only take the selected columns, else use X_train\n",
    "clf.fit(X_train[:, feature_select], y_train)\n",
    "\n",
    "#Only take the selected columns, else use X_train\n",
    "y_train_pred = clf.predict(X_train[:, feature_select])\n",
    "print('Training accuracy(feature_select): %.3f' % acc(y_train, y_train_pred))\n",
    "\n",
    "#Only take the selected columns, else use X_train\n",
    "y_test_pred = clf.predict(X_test[:, feature_select])\n",
    "print('Testing accuracy(feature_select): %.3f' % acc(y_test, y_test_pred))"
   ]
  }
 ],
 "metadata": {
  "kernelspec": {
   "display_name": "Python 3",
   "language": "python",
   "name": "python3"
  },
  "language_info": {
   "codemirror_mode": {
    "name": "ipython",
    "version": 3
   },
   "file_extension": ".py",
   "mimetype": "text/x-python",
   "name": "python",
   "nbconvert_exporter": "python",
   "pygments_lexer": "ipython3",
   "version": "3.6.6"
  }
 },
 "nbformat": 4,
 "nbformat_minor": 2
}
