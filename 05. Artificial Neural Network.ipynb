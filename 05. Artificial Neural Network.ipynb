{
 "cells": [
  {
   "cell_type": "markdown",
   "metadata": {},
   "source": [
    "# Agenda\n",
    "1. How Neural Network Works\n",
    "2. Mathematics Behind NN\n",
    "3. Activation Function\n",
    "4. Bias Node\n"
   ]
  },
  {
   "cell_type": "markdown",
   "metadata": {},
   "source": [
    "# Artificial Neural Network\n",
    "\n",
    "<img src=\"Image/neuron.jpg\" width=\"400\" />\n",
    "<br>\n",
    "<br>  \n",
    "<br>  \n",
    "<br>\n",
    "<br>\n",
    "  \n",
    "  \n",
    "  \n",
    "  \n",
    "  "
   ]
  },
  {
   "cell_type": "markdown",
   "metadata": {},
   "source": [
    "#### How Neural Network Works?\n",
    "<img src=\"Image/neuron-1.png\" width=\"300\" />\n",
    "<br>\n",
    "<br>  \n",
    "<br>  \n",
    "<br>\n",
    "<br>\n",
    "<img src=\"Image/Basic_Neural.png\" width=\"500\" />\n",
    "<br>\n",
    "<br>  \n",
    "<br>  \n",
    "<br>\n",
    "<br>"
   ]
  },
  {
   "cell_type": "markdown",
   "metadata": {},
   "source": [
    "#### Neural Network with Hidden Layer\n",
    "<img src=\"Image/house_neural.png\" width=\"500\" />\n",
    "<br>\n",
    "<br>  \n",
    "<br>  \n",
    "<br>\n",
    "<br>\n",
    "<img src=\"Image/house_hidden.png\" width=\"500\" />\n",
    "<br>\n",
    "<br>  \n",
    "<br>  \n",
    "<br>\n",
    "<br>"
   ]
  },
  {
   "cell_type": "markdown",
   "metadata": {},
   "source": [
    "## Activation Function\n",
    "\n",
    "- These type of functions are attached to each neuron in the network, and determines whether it should be activated or not, based on whether each neuron’s input is relevant for the model’s prediction.\n",
    "- It helps to standardize the output of each neuron.\n",
    "- E.g: Threshold, Sigmoid, Relu(Rectifier), Softmax\n",
    "\n",
    "#### Whats the diff between Step function, Linear function and Sigmoid function?  \n",
    "\n",
    "\n",
    "Linear Function:\n",
    "- Using Linear function only will make the output layer to be a linear function as well so we can't map a non-linear dataset\n",
    "\n",
    "Step Function: \n",
    "- we define threshold values and have discrete output values\n",
    "- if(z > threshold) — “activate” the node (value 1)\n",
    "- if(z < threshold) — don’t “activate” the node (value 0)\n",
    "- So, we have value either 0 or 1\n",
    "- issue here is that it is possible multiple output classes/nodes to be activated (to have the value 1). So we are not able to properly classify/decide.\n",
    "\n",
    "Sigmoid Function:  \n",
    "\n",
    "$ \\theta(x) = \\frac {1} {1 + e^{-x}} $\n",
    "\n",
    "- It is a non-linear function\n",
    "- Value range is (0,1)\n",
    "- classify values either 1 or 0\n",
    "\n",
    "<img src=\"Image/sigmoid1.png\">"
   ]
  },
  {
   "cell_type": "markdown",
   "metadata": {},
   "source": [
    "\n",
    "\n",
    "\n",
    "#### Threshold Function\n",
    "\n",
    "$ \\theta(x): $   \n",
    "=0 if x < 0  \n",
    "=1 if x > 0 \n",
    "\n",
    "<img src=\"Image/threshold1.png\" width=\"300\" />\n",
    "\n",
    "\n"
   ]
  },
  {
   "cell_type": "markdown",
   "metadata": {},
   "source": [
    "#### Rectifier Function\n",
    "\n",
    "$ \\theta(x) = max(x,0) $\n",
    "\n",
    "<img src=\"Image/rectifier1.png\">"
   ]
  },
  {
   "cell_type": "markdown",
   "metadata": {},
   "source": [
    "## Bias\n"
   ]
  },
  {
   "cell_type": "markdown",
   "metadata": {},
   "source": [
    "# Forward Propagation\n"
   ]
  },
  {
   "cell_type": "markdown",
   "metadata": {},
   "source": [
    "## How do Neural network Learn?\n",
    "\n",
    "- Cost reduces with adjustment in weight(w)\n",
    "<img src=\"Image/neural_learn.png\">\n",
    "\n",
    "## Back Propagation\n",
    "\n",
    "- Error propagates from right to left and update the weights according to how much they are responsible for the error.\n",
    "- Determining how changing the weights impact the overall cost in the neural network.\n",
    "\n",
    "#### Learning Rate\n",
    "\n",
    "The learning rate decides by how much we update the weights"
   ]
  },
  {
   "cell_type": "markdown",
   "metadata": {},
   "source": [
    "### Neural Network Examples:\n",
    "\n",
    "$ x_1,x_2 \\epsilon (0,1)$  \n",
    "y = x1 AND x2\n",
    "<img src=\"Image/ex-nn.png\">"
   ]
  },
  {
   "cell_type": "markdown",
   "metadata": {},
   "source": [
    "#### AND Gate\n",
    "$h_\\theta(x) = g(-50+30x_1+30x_2)$  \n",
    "\n",
    "<img src=\"Image/AND1.png\">"
   ]
  },
  {
   "cell_type": "markdown",
   "metadata": {},
   "source": [
    "#### OR Gate\n",
    "$h_\\theta(x) = g(-20+30x_1+30x_2)$  \n",
    "\n",
    "<img src=\"Image/OR.png\">"
   ]
  },
  {
   "cell_type": "code",
   "execution_count": 6,
   "metadata": {},
   "outputs": [
    {
     "name": "stdout",
     "output_type": "stream",
     "text": [
      "[-50, 30, 30]\n"
     ]
    }
   ],
   "source": [
    "import numpy, random, os\n",
    "lr = 1 #learning rate\n",
    "bias = 1 #value of bias\n",
    "weights = [-50, 30, 30]\n",
    "print(weights)"
   ]
  },
  {
   "cell_type": "code",
   "execution_count": 7,
   "metadata": {
    "scrolled": true
   },
   "outputs": [
    {
     "name": "stdout",
     "output_type": "stream",
     "text": [
      "Running loop i=0\n",
      "[-50, 30, 30]\n",
      "[-49, 31, 30]\n",
      "[-48, 31, 31]\n",
      "[-48, 31, 31]\n",
      "Running loop i=1\n",
      "[-48, 31, 31]\n",
      "[-47, 32, 31]\n",
      "[-46, 32, 32]\n",
      "[-46, 32, 32]\n",
      "Running loop i=2\n",
      "[-46, 32, 32]\n",
      "[-45, 33, 32]\n",
      "[-44, 33, 33]\n",
      "[-44, 33, 33]\n",
      "Running loop i=3\n",
      "[-44, 33, 33]\n",
      "[-43, 34, 33]\n",
      "[-42, 34, 34]\n",
      "[-42, 34, 34]\n",
      "Running loop i=4\n",
      "[-42, 34, 34]\n",
      "[-41, 35, 34]\n",
      "[-40, 35, 35]\n",
      "[-40, 35, 35]\n",
      "Running loop i=5\n",
      "[-40, 35, 35]\n",
      "[-39, 36, 35]\n",
      "[-38, 36, 36]\n",
      "[-38, 36, 36]\n",
      "Running loop i=6\n",
      "[-38, 36, 36]\n",
      "[-37, 37, 36]\n",
      "[-36, 37, 37]\n",
      "[-36, 37, 37]\n",
      "Running loop i=7\n",
      "[-36, 37, 37]\n",
      "[-35, 38, 37]\n",
      "[-34, 38, 38]\n",
      "[-34, 38, 38]\n",
      "Running loop i=8\n",
      "[-34, 38, 38]\n",
      "[-33, 39, 38]\n",
      "[-33, 39, 38]\n",
      "[-33, 39, 38]\n",
      "Running loop i=9\n",
      "[-33, 39, 38]\n",
      "[-33, 39, 38]\n",
      "[-33, 39, 38]\n",
      "[-33, 39, 38]\n",
      "1\n",
      "0\n",
      "1 or 0 is :  1\n"
     ]
    }
   ],
   "source": [
    "def out_neuron(input1, input2, output) :\n",
    "    outputP = bias*weights[0]+input1*weights[1]+input2*weights[2]\n",
    "    if outputP > 4.6 : #activation function (here Heaviside)\n",
    "        outputP = 1\n",
    "    else :\n",
    "        outputP = 0\n",
    "    #print(output,outputP)    \n",
    "    error = output-outputP\n",
    "    #print(error)\n",
    "    weights[0] += error * bias * lr\n",
    "    weights[1] += error * input1 * lr\n",
    "    weights[2] += error * input2 * lr\n",
    "\n",
    "    print (weights)\n",
    "    \n",
    "for i in range(10) :\n",
    "    print(\"Running loop i=%s\"%i)\n",
    "    out_neuron(1,1,1) #True or true\n",
    "    out_neuron(1,0,1) #True or false\n",
    "    out_neuron(0,1,1) #False or true\n",
    "    out_neuron(0,0,0) #False or false\n",
    "    \n",
    "x = int(input())\n",
    "y = int(input())\n",
    "outputP = bias*weights[0] + x*weights[1] + y*weights[2] \n",
    "if outputP > 4.6: #activation function\n",
    "    outputP = 1\n",
    "else :\n",
    "    outputP = 0\n",
    "print(x, \"or\", y, \"is : \", outputP)    "
   ]
  },
  {
   "cell_type": "markdown",
   "metadata": {},
   "source": [
    "## Gradient Descent\n",
    "\n",
    "Two Types:\n",
    "1. Batch Gradient Descent\n",
    "2. Stochastic Gradient Descent\n",
    "\n"
   ]
  },
  {
   "cell_type": "code",
   "execution_count": null,
   "metadata": {},
   "outputs": [],
   "source": []
  },
  {
   "cell_type": "code",
   "execution_count": null,
   "metadata": {},
   "outputs": [],
   "source": []
  }
 ],
 "metadata": {
  "kernelspec": {
   "display_name": "Python 3",
   "language": "python",
   "name": "python3"
  },
  "language_info": {
   "codemirror_mode": {
    "name": "ipython",
    "version": 3
   },
   "file_extension": ".py",
   "mimetype": "text/x-python",
   "name": "python",
   "nbconvert_exporter": "python",
   "pygments_lexer": "ipython3",
   "version": "3.6.6"
  }
 },
 "nbformat": 4,
 "nbformat_minor": 2
}
